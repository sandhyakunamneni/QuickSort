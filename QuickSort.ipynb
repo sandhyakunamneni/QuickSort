{
 "cells": [
  {
   "cell_type": "code",
   "execution_count": 19,
   "id": "9e031621",
   "metadata": {
    "scrolled": true
   },
   "outputs": [
    {
     "data": {
      "text/plain": [
       "[-82, -52, -49, -24, -12, 12, 49, 65, 92, 93]"
      ]
     },
     "execution_count": 19,
     "metadata": {},
     "output_type": "execute_result"
    }
   ],
   "source": [
    "import random\n",
    "\n",
    "def quickSort(list): \n",
    "\n",
    "  # Edge case scenario\n",
    "  if len(list) <= 1:     \n",
    "      return list  \n",
    "\n",
    "  # Taking middle element as pivot \n",
    "  pivotElement = list[len(list) // 2]    \n",
    "  \n",
    "  # pushing all elements less than pivot element to left list\n",
    "  left= [x for x in list if x < pivotElement]      \n",
    "  # pushing all elements equal to pivot element to middle list\n",
    "  middle = [x for x in list if x == pivotElement]  \n",
    "  # pushing all elements greater than pivot element to right list\n",
    "  right = [x for x in list if x > pivotElement]     \n",
    "  \n",
    "  # Sort left list and right list recursively \n",
    "  return quickSort(left) + middle + quickSort(right)  \n",
    "  \n",
    "# Creating list of 10 random integers in range -100 to 100\n",
    "list = [random.randint(-100,100) for i in range(10)] \n",
    "quickSort(list)\n",
    "\n"
   ]
  },
  {
   "cell_type": "code",
   "execution_count": 20,
   "id": "d00ff233",
   "metadata": {},
   "outputs": [
    {
     "data": {
      "text/plain": [
       "[-98, 2, 7, 8, 10, 14, 23, 45]"
      ]
     },
     "execution_count": 20,
     "metadata": {},
     "output_type": "execute_result"
    }
   ],
   "source": [
    "quickSort([23,14,2,45,-98,7,10,8])"
   ]
  },
  {
   "cell_type": "code",
   "execution_count": null,
   "id": "139632b5",
   "metadata": {},
   "outputs": [],
   "source": []
  }
 ],
 "metadata": {
  "kernelspec": {
   "display_name": "Python 3 (ipykernel)",
   "language": "python",
   "name": "python3"
  },
  "language_info": {
   "codemirror_mode": {
    "name": "ipython",
    "version": 3
   },
   "file_extension": ".py",
   "mimetype": "text/x-python",
   "name": "python",
   "nbconvert_exporter": "python",
   "pygments_lexer": "ipython3",
   "version": "3.9.13"
  }
 },
 "nbformat": 4,
 "nbformat_minor": 5
}
